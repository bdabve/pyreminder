{
 "cells": [
  {
   "cell_type": "markdown",
   "metadata": {},
   "source": [
    "### Numerical Python (Numpy)\n",
    "- **_ndarray_** , a fast and space-efficient multidimensional array providing vectorized arithmetic operations and sophisticated broadcasting capabilities\n",
    "- Standard mathematical functions for fast operations on entire arrays of data without having to write loops\n",
    "- Tools for reading/writing array data to disk and working with memory-mapped files\n",
    "- Linear algebra, random number generation, and Fourier transform capabilities\n",
    "- Tools for integrating code written in C, C++, and Fortran"
   ]
  },
  {
   "cell_type": "markdown",
   "metadata": {},
   "source": [
    "### Array creation functions\n",
    "|Function          | Description\n",
    "|------------------|------------------------------------\n",
    "| array            | Convert input data (list, tuple, array, or other sequence type) to an ndarray either by inferring a dtype or explicitly specifying a dtype. Copies the input data by default.\n",
    "| asarray          | Convert input to ndarray, but do not copy if the input is already an ndarray\n",
    "| arange           | Like the built-in range but returns an ndarray instead of a list.\n",
    "| ones, ones_like  | Produce an array of all 1’s with the given shape and dtype. ones_like takes another array and produces a ones array of the same shape and dtype.\n",
    "| zeros, zeros_like | Like ones and ones_like but producing arrays of 0’s instead\n",
    "| empty, empty_like | Create new arrays by allocating new memory, but do not populate with any values like zones and zeros\n",
    "| eye, identity     | Create a square N x N identity matrix (1’s on the diagonal and 0’s elsewhere)"
   ]
  },
  {
   "cell_type": "markdown",
   "metadata": {},
   "source": [
    "### The NumPy ndarray: A Multidimensional Array Object"
   ]
  },
  {
   "cell_type": "code",
   "execution_count": 2,
   "metadata": {},
   "outputs": [
    {
     "name": "stdout",
     "output_type": "stream",
     "text": [
      "Array type: <class 'numpy.ndarray'>\n",
      "printing  : [[1 2 3 4]\n",
      " [5 6 7 8]]\n",
      "dimension : 2\n",
      "size of arr: (2, 4)\n",
      "Data type arr2 : int64\n",
      "Data type arr1 : float64\n",
      "--------------------------------------------------\n",
      "[0. 0. 0. 0. 0. 0. 0. 0. 0. 0.]\n",
      "\n",
      "[[0. 0. 0. 0. 0. 0.]\n",
      " [0. 0. 0. 0. 0. 0.]\n",
      " [0. 0. 0. 0. 0. 0.]]\n",
      "\n",
      "[[[0.00000000e+000 2.44029516e-312]\n",
      "  [2.10077583e-312 6.79038654e-313]\n",
      "  [2.22809558e-312 2.14321575e-312]]\n",
      "\n",
      " [[2.35541533e-312 6.79038654e-313]\n",
      "  [2.22809558e-312 2.14321575e-312]\n",
      "  [2.46151512e-312 2.41907520e-312]]]\n",
      "\n",
      "[ 0  1  2  3  4  5  6  7  8  9 10 11 12 13 14]\n"
     ]
    }
   ],
   "source": [
    "import numpy as np\n",
    "divider = '-' * 50\n",
    "data = [6, 7.5, 8, 0, 1]\n",
    "arr1 = np.array(data)\n",
    "data2 = [[1, 2, 3, 4], [5, 6, 7, 8]]\n",
    "arr2 = np.array(data2)\n",
    "print('Array type:', type(arr2))\n",
    "print('printing  :', arr2)\n",
    "print('dimension :', arr2.ndim)\n",
    "print('size of arr:', arr2.shape)              # a tuple undicating the size of each demension\n",
    "print('Data type arr2 :', arr2.dtype)               # dtype == data type\n",
    "print('Data type arr1 :', arr1.dtype)\n",
    "print(divider)\n",
    "# ---------------------------------\n",
    "zeroArray = np.zeros(10)\n",
    "print(zeroArray)\n",
    "print()\n",
    "zero3Array = np.zeros((3, 6))\n",
    "print(zero3Array)\n",
    "print()\n",
    "empty = np.empty((2, 3, 2))    # it will return uninitialized garbage values.\n",
    "print(empty)\n",
    "print()\n",
    "npRange = np.arange(15)        # like range(15)\n",
    "print(npRange)"
   ]
  },
  {
   "cell_type": "markdown",
   "metadata": {},
   "source": [
    "### Data type for ndarray\n",
    "> Calling astype always create a new array(a copy of the data) even if the new dtype is the same as the old dtype"
   ]
  },
  {
   "cell_type": "code",
   "execution_count": 20,
   "metadata": {},
   "outputs": [
    {
     "name": "stdout",
     "output_type": "stream",
     "text": [
      "float64 , int64\n",
      "array type: int64\n",
      "converting to float: float64\n",
      "float array: [1. 2. 3. 4. 5.]\n",
      "--------------------------------------------------\n",
      "Original array: [ 3.7  -1.2  -2.6   0.5  12.9  10.01]\n",
      "Converting to int32: [ 3 -1 -2  0 12 10]\n",
      "\n",
      "Original: [b'1.25' b'-9.6' b'42']\n",
      "to float: [ 1.25 -9.6  42.  ]\n",
      "\n",
      "float64\n"
     ]
    }
   ],
   "source": [
    "arr1 = np.ndarray([1, 2, 3], dtype=np.float64)\n",
    "arr2 = np.ndarray([1, 2, 3], dtype=np.int)\n",
    "print(arr1.dtype, ',', arr2.dtype)\n",
    "\n",
    "# convert an int array to float\n",
    "arr = np.array([1, 2, 3, 4, 5])\n",
    "print('array type:', arr.dtype)\n",
    "arr_float = arr.astype(np.float64)\n",
    "print('converting to float:', arr_float.dtype)\n",
    "print('float array:', arr_float)\n",
    "print(divider)\n",
    "\n",
    "# from float to int\n",
    "# the dicimal part will be truncated\n",
    "arr = np.array([3.7, -1.2, -2.6, 0.5, 12.9, 10.01])\n",
    "print('Original array:', arr)\n",
    "arrToInt = arr.astype(np.int32)\n",
    "print('Converting to int32:', arrToInt)\n",
    "\n",
    "# from string to flaot\n",
    "print()\n",
    "arr = np.array(['1.25', '-9.6', '42'], dtype=np.string_)\n",
    "print('Original:', arr)\n",
    "to_floa = arr.astype(np.float)\n",
    "print('to float:', to_floa)\n",
    "\n",
    "# another way to convert\n",
    "print()\n",
    "int_arr = np.arange(10)\n",
    "calibers = np.array([.22, .270, .357, .380, .44], dtype=np.float64)\n",
    "int_arr = int_arr.astype(calibers.dtype)\n",
    "print(int_arr.dtype)"
   ]
  },
  {
   "cell_type": "markdown",
   "metadata": {},
   "source": [
    "### Operations between Arrarys and \n",
    "- Arrays are important because they enable you to express batch operations on data without writing any for loops. This is usually called **_vectorization_**."
   ]
  },
  {
   "cell_type": "code",
   "execution_count": 33,
   "metadata": {},
   "outputs": [
    {
     "name": "stdout",
     "output_type": "stream",
     "text": [
      "- Original Array: [[1. 2. 3.]\n",
      " [4. 5. 6.]]\n",
      "\n",
      "- arr * arr: [[ 1.  4.  9.]\n",
      " [16. 25. 36.]]\n",
      "\n",
      "- arr - arr [[0. 0. 0.]\n",
      " [0. 0. 0.]]\n",
      "\n",
      "- 1 / arr: [[1.         0.5        0.33333333]\n",
      " [0.25       0.2        0.16666667]]\n",
      "\n",
      "- arr ** 0.5: [[1.         1.41421356 1.73205081]\n",
      " [2.         2.23606798 2.44948974]]\n"
     ]
    }
   ],
   "source": [
    "arr = np.array([[1, 2, 3], [4, 5, 6]], dtype=np.float64)\n",
    "print('- Original Array:', arr)\n",
    "print('\\n- arr * arr:', arr * arr)\n",
    "print('\\n- arr - arr', arr - arr)\n",
    "print('\\n- 1 / arr:', 1 / arr)\n",
    "print('\\n- arr ** 0.5:', arr ** 0.5)"
   ]
  },
  {
   "cell_type": "markdown",
   "metadata": {},
   "source": [
    "### Basic Indexing and Slicing"
   ]
  },
  {
   "cell_type": "code",
   "execution_count": 46,
   "metadata": {},
   "outputs": [
    {
     "name": "stdout",
     "output_type": "stream",
     "text": [
      "5\n",
      "[5 6 7]\n",
      "[ 0  1  2  3  4 12 12 12  8  9]\n",
      "--------------------------------------------------\n",
      "[ 0  1  2  3  4 12 12 12  8  9]\n",
      "[    0     1     2     3     4    12 12345    12     8     9]\n",
      "[ 0  1  2  3  4 64 64 64  8  9]\n",
      "[64 64 64]\n",
      "--------------------------------------------------\n",
      "[7 8 9]\n",
      "3\n"
     ]
    }
   ],
   "source": [
    "# One-dimensional arrays are simple; on the surface they act similarly to Python lists:\n",
    "arr = np.arange(10)\n",
    "print(arr[5])\n",
    "print(arr[5:8])\n",
    "\n",
    "# any modifications to the view will be reflected in the source array\n",
    "arr[5:8] = 12\n",
    "print(arr)\n",
    "\n",
    "print(divider)\n",
    "arr_slice = arr[5:8]\n",
    "print(arr)\n",
    "arr_slice[1] = 12345\n",
    "print(arr)\n",
    "arr_slice[:] = 64\n",
    "print(arr)\n",
    "# If you want a copy of a slice of an ndarray instead of a view, \n",
    "# you will need to explicitly copy the array.\n",
    "arr_slice2 = arr[5:8].copy()\n",
    "print(arr_slice2)\n",
    "print(divider)\n",
    "\n",
    "arr = np.array([[1, 2, 3], [4, 5, 6], [7, 8, 9]])\n",
    "print(arr[2])\n",
    "print(arr[0, 2])"
   ]
  },
  {
   "cell_type": "markdown",
   "metadata": {},
   "source": [
    "### Boolean Indexing "
   ]
  },
  {
   "cell_type": "code",
   "execution_count": 68,
   "metadata": {},
   "outputs": [
    {
     "name": "stdout",
     "output_type": "stream",
     "text": [
      "Names == Bob: [ True False False  True False False False]\n",
      "Data for bob: [[0 0 0 0]\n",
      " [0 0 0 0]] \n",
      "\n",
      "[[0 0]\n",
      " [0 0]] \n",
      "\n",
      "[0 0]\n",
      "--------------------------------------------------\n",
      "Names != Bob [False  True  True False  True  True  True]\n",
      "[[1 1 1 1]\n",
      " [2 2 2 2]\n",
      " [2 2 2 2]\n",
      " [1 1 1 1]\n",
      " [1 1 1 1]]\n",
      "--------------------------------------------------\n",
      "[ True False  True  True  True False False]\n",
      "[[0 0 0 0]\n",
      " [2 2 2 2]\n",
      " [0 0 0 0]\n",
      " [2 2 2 2]]\n",
      "--------------------------------------------------\n",
      "[[0 0 0 0]\n",
      " [1 1 1 1]\n",
      " [3 3 3 3]\n",
      " [0 0 0 0]\n",
      " [3 3 3 3]\n",
      " [1 1 1 1]\n",
      " [1 1 1 1]]\n",
      "--------------------------------------------------\n",
      "[[7 7 7 7]\n",
      " [1 1 1 1]\n",
      " [7 7 7 7]\n",
      " [7 7 7 7]\n",
      " [7 7 7 7]\n",
      " [1 1 1 1]\n",
      " [1 1 1 1]]\n"
     ]
    }
   ],
   "source": [
    "# suppose data: Bob = 0, Joe = 1, Will = 2\n",
    "names = np.array(['Bob', 'Joe', 'Will', 'Bob', 'Will', 'Joe', 'Joe'])\n",
    "data = np.array([[0, 0, 0, 0],\n",
    "                [1, 1, 1, 1],\n",
    "                [2, 2, 2, 2],\n",
    "                [0, 0, 0, 0],\n",
    "                [2, 2, 2, 2],\n",
    "                [1, 1, 1, 1],\n",
    "                [1, 1, 1, 1]\n",
    "                ])\n",
    "print('Names == Bob:', names == 'Bob')\n",
    "print('Data for bob:', data[names == 'Bob'], '\\n')\n",
    "\n",
    "# with slice\n",
    "print(data[names == 'Bob', 2:], '\\n')\n",
    "print(data[names == 'Bob', 3])               # index 3 of the all array\n",
    "\n",
    "# every thing except 'Bob'\n",
    "print(divider)\n",
    "print('Names != Bob', names != 'Bob')\n",
    "print(data[~(names == 'Bob')])\n",
    "\n",
    "# Selecting two of the three names\n",
    "print(divider)\n",
    "mask = (names == 'Bob') | (names == 'Will')\n",
    "print(mask)\n",
    "print(data[mask])\n",
    "\n",
    "# Setting Values\n",
    "print(divider)\n",
    "data[data > 1] = 3\n",
    "print(data)\n",
    "\n",
    "print(divider)\n",
    "data[names != 'Joe'] = 7\n",
    "print(data)"
   ]
  },
  {
   "cell_type": "markdown",
   "metadata": {},
   "source": [
    "### Fancy Indexing\n",
    "- Fancy indexing is a term adopted by NumPy to describe indexing using integer arrays.\n",
    "- Fancy indexing, unlike slicing, always copies the data into a new array."
   ]
  },
  {
   "cell_type": "code",
   "execution_count": 77,
   "metadata": {},
   "outputs": [
    {
     "name": "stdout",
     "output_type": "stream",
     "text": [
      "[[0. 0. 0. 0.]\n",
      " [1. 1. 1. 1.]\n",
      " [2. 2. 2. 2.]\n",
      " [3. 3. 3. 3.]\n",
      " [4. 4. 4. 4.]\n",
      " [5. 5. 5. 5.]\n",
      " [6. 6. 6. 6.]\n",
      " [7. 7. 7. 7.]]\n",
      "--------------------------------------------------\n",
      "[[4. 4. 4. 4.]\n",
      " [3. 3. 3. 3.]\n",
      " [0. 0. 0. 0.]\n",
      " [6. 6. 6. 6.]]\n",
      "--------------------------------------------------\n",
      "[[5. 5. 5. 5.]\n",
      " [3. 3. 3. 3.]\n",
      " [1. 1. 1. 1.]]\n",
      "--------------------------------------------------\n",
      "[[ 0  1  2  3]\n",
      " [ 4  5  6  7]\n",
      " [ 8  9 10 11]\n",
      " [12 13 14 15]\n",
      " [16 17 18 19]\n",
      " [20 21 22 23]\n",
      " [24 25 26 27]\n",
      " [28 29 30 31]]\n",
      "--------------------------------------------------\n",
      "[ 4 23 29 10]\n",
      "--------------------------------------------------\n",
      "[[ 4  7  5  6]\n",
      " [20 23 21 22]\n",
      " [28 31 29 30]\n",
      " [ 8 11  9 10]]\n"
     ]
    }
   ],
   "source": [
    "arr = np.empty((8, 4))\n",
    "for i in range(8):\n",
    "    arr[i] = i\n",
    "print(arr)\n",
    "print(divider)\n",
    "print(arr[[4, 3, 0, 6]])\n",
    "print(divider)\n",
    "print(arr[[-3, -5, -7]])\n",
    "\n",
    "print(divider)\n",
    "arr = np.arange(32).reshape((8, 4))\n",
    "print(arr)\n",
    "\n",
    "print(divider)\n",
    "# Select the elements (1, 0), (5, 3), (7, 1), and (2, 2)\n",
    "print(arr[[1, 5, 7, 2], [0, 3, 1, 2]])\n",
    "print(divider)\n",
    "# \n",
    "print(arr[[1, 5, 7, 2]][:, [0, 3, 1, 2]])"
   ]
  }
 ],
 "metadata": {
  "kernelspec": {
   "display_name": "Python 3",
   "language": "python",
   "name": "python3"
  },
  "language_info": {
   "codemirror_mode": {
    "name": "ipython",
    "version": 3
   },
   "file_extension": ".py",
   "mimetype": "text/x-python",
   "name": "python",
   "nbconvert_exporter": "python",
   "pygments_lexer": "ipython3",
   "version": "3.6.8"
  }
 },
 "nbformat": 4,
 "nbformat_minor": 2
}
